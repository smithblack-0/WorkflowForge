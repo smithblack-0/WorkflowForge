{
 "cells": [
  {
   "metadata": {},
   "cell_type": "raw",
   "source": [
    "    #%% md\n",
    "    # Introduction\n",
    "\n",
    "    This demo illustrates the fully functional frontend of the Workflow Forge project, and shows off a use case that would be nearly impossible with traditional workflow systems, but becomes tractable and easily-debuggable with workflow forge. This is not to say all problems are possible with it, but the system is modular and designed for easy extension.\n",
    "\n",
    "    ## Intention\n",
    "\n",
    "    This overview is intended to do three things\n",
    "\n",
    "    1) Showcase the portions of the system which are production-ready with all error checking and unit testing passing, and give an idea of the sophistication of the system\n",
    "    2) Showcase a use case that would be nearly impossible - defined as 3-6 months of coding - and definitely impossible for research purposes where requirements may change partway through\n",
    "    3) Illustrate the extreme power of the system for constitutional AI research purposes.\n",
    "\n",
    "    ## Roadmap\n",
    "\n",
    "    In this demo we will\n",
    "\n",
    "    * Briefly discuss how the system works.\n",
    "    * Examine a simple example, and observe how the IR system produces a control flow graph, then discuss how it will be executed in bytecode\n",
    "    * Examine a much more sophisticated system, which is similar to the original case that motivated the construction of the WF system, and would be nearly impossible using modern prompting systems in a research context.\n",
    "    * See the output in terms of the intermediate IR graph.\n",
    "\n",
    "    This demonstration illustrates the frontend and IR lowering system. and the backend is still incomplete, though planned out. We will not\n",
    "\n",
    "    * Run a case on the GPU VM\n",
    "\n",
    "    ## Level of readiness\n",
    "\n",
    "    The entire systems codebase is up to professional research standards, perhaps even enterprise quality, with typehints being mandatory, documentation-driven development, and passing unit tests. You are encouraged to break the code. If you can break it in a way that does not give clear error messages, that is a bug. Please raise it here [Issues](https://github.com/smithblack-0/WorkflowForge/issues)"
   ],
   "id": "9c6947c330f20ea"
  },
  {
   "metadata": {},
   "cell_type": "code",
   "outputs": [],
   "execution_count": null,
   "source": "",
   "id": "7420be0e1db73e49"
  },
  {
   "metadata": {},
   "cell_type": "code",
   "outputs": [],
   "execution_count": null,
   "source": "",
   "id": "443572677ce60601"
  },
  {
   "metadata": {},
   "cell_type": "markdown",
   "source": "",
   "id": "2771ef670a99054a"
  }
 ],
 "metadata": {},
 "nbformat": 4,
 "nbformat_minor": 5
}
